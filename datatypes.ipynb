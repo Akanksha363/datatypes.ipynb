{
  "nbformat": 4,
  "nbformat_minor": 0,
  "metadata": {
    "colab": {
      "provenance": [],
      "toc_visible": true
    },
    "kernelspec": {
      "name": "python3",
      "display_name": "Python 3"
    },
    "language_info": {
      "name": "python"
    }
  },
  "cells": [
    {
      "cell_type": "markdown",
      "source": [
        "                                         \n",
        "                                       **Theoretical Questions**"
      ],
      "metadata": {
        "id": "mpkirYsCeter"
      }
    },
    {
      "cell_type": "markdown",
      "source": [
        "1. What are data structures, and why are they important?\n",
        "  - Data structures are specialized formats for organizing, storing, and\n",
        "    managing data efficiently. They are crucial for enabling optimized algorithm development and efficient data handling.\n",
        "\n",
        "2. Explain the difference between mutable and immutable data types with examples.\n",
        " -  Mutable data types can be modified after creation (e.g., lists).\n",
        " -  Immutable data types cannot be modified (e.g., tuples).\n",
        "    Example: list=[1, 2] (mutable), tuple=(1, 2) (immutable).\n",
        "\n",
        "3. What are the main differences between lists and tuples in Python?\n",
        "  - List:\n",
        "     (a) Lists are mutable, dynamic in size, and slower.\n",
        "     (b) Suitable for collections that require frequent updates.\n",
        "  - Tuples:\n",
        "     (a) Tuples are immutable, fixed in size, and faster for operations.\n",
        "     (b) Ideal for fixed data that shouldn't change.\n",
        "\n",
        "4. Describe how dictionaries store data.\n",
        "  - Dictionaries store data as key-value pairs using hash tables for fast\n",
        "    lookups and access.\n",
        "\n",
        "5. Why might you use a set instead of a list in Python?\n",
        " - Sets discard duplicate elements automatically and provide faster operations\n",
        "   for membership testing and set operations.\n",
        "\n",
        "6. What is a string in Python, and how is it different from a list?\n",
        " - Strings are immutable sequences of characters. Lists are mutable collections\n",
        "   that can hold diverse data type.\n",
        "\n",
        "7. How do tuples ensure data integrity in Python?\n",
        " - Tuples are immutable, meaning their elements cannot be changed after\n",
        "   creation, ensuring data consistency.\n",
        "\n",
        "8. What is a hash table, and how does it relate to dictionaries in Python?\n",
        " - Hash tables are data structures that map keys to values using hash\n",
        "   functions. Dictionaries in Python are implemented using hash tables.\n",
        "\n",
        "9. Can lists contain different data types in Python?\n",
        "  - Yes, lists can contain elements of different data types, including numbers, strings, and objects.\n",
        "\n",
        "10. Explain why strings are immutable in Python.\n",
        "  - Strings are immutable to ensure efficiency and security, especially when\n",
        "    used as keys in dictionaries.\n",
        "\n",
        "11. What advantages do dictionaries offer over lists for certain tasks?\n",
        " -  Dictionaries provide fast lookups and access using keys, making them more\n",
        "    suitable for tasks requiring key-value mapping.\n",
        "\n",
        "12. Describe a scenario where using a tuple would be preferable over a list?\n",
        "  - Tuples are ideal when the data should not change, such as coordinates or\n",
        "    configuration settings.\n",
        "\n",
        "13. How do sets handle duplicate values in Python?\n",
        "  - Sets automatically remove duplicate values, ensuring all elements are\n",
        "    unique.\n",
        "\n",
        "14. How does the “in” keyword work differently for lists and dictionaries?\n",
        " -  For lists, 'in' checks for element existence. For dictionaries, it checks  \n",
        "    if a key exists.\n",
        "\n",
        "15. Can you modify the elements of a tuple? Explain why or why not?\n",
        "  - No,tuple elements cannot be modified because tuples are immutable by design.\n",
        "\n",
        "16. What is a nested dictionary, and give an example of its use case?\n",
        "  -  A nested dictionary is a dictionary within another dictionary. Example:\n",
        "     {'user': {'name':'Alice', 'age': 25}}.\n",
        "\n",
        "17. Describe the time complexity of accessing elements in a dictionary?\n",
        "  -  Accessing elements in a dictionary has an average time complexity of O(1)\n",
        "     due to hash table implementation.\n",
        "\n",
        "18. In what situations are lists preferred over dictionaries?\n",
        "  - Lists are preferred when order matters or when storing a simple sequence of elements without key-value mapping.\n",
        "\n",
        "19. Why are dictionaries considered unordered, and how does that affect data retrieval?\n",
        " - Dictionaries are unordered because they rely on hash tables. Retrieval is\n",
        "  based on keys,not order.\n",
        "\n",
        "20. Explain the difference between a list and a dictionary in terms of data retrieval.\n",
        " - Lists use positional indices for data retrieval, while dictionaries use keys\n",
        "   for fast lookups."
      ],
      "metadata": {
        "id": "GCRzWyABe6Pp"
      }
    },
    {
      "cell_type": "markdown",
      "source": [
        "                                          **Practical Questions**"
      ],
      "metadata": {
        "id": "a-y1b6A8eGo8"
      }
    },
    {
      "cell_type": "markdown",
      "source": [
        "1. Write a code to create a string with your name and print it.\n"
      ],
      "metadata": {
        "id": "Kp45E9qFeVs3"
      }
    },
    {
      "cell_type": "code",
      "source": [
        "name = \"Aishwarya\"\n",
        "print(name)"
      ],
      "metadata": {
        "colab": {
          "base_uri": "https://localhost:8080/"
        },
        "id": "3ZlQW2_qeTOo",
        "outputId": "a7a672a3-7a75-4e8f-b2d6-4037186f3da5"
      },
      "execution_count": 2,
      "outputs": [
        {
          "output_type": "stream",
          "name": "stdout",
          "text": [
            "Aishwarya\n"
          ]
        }
      ]
    },
    {
      "cell_type": "markdown",
      "source": [
        "2. Write a code to find the length of the string \"Hello World\"."
      ],
      "metadata": {
        "id": "QpVWLyDYffnR"
      }
    },
    {
      "cell_type": "code",
      "source": [
        "string = \"Hello World\"\n",
        "print(len(string))"
      ],
      "metadata": {
        "colab": {
          "base_uri": "https://localhost:8080/"
        },
        "id": "QhMxGI9HfrFo",
        "outputId": "ab270864-ba1b-41b1-c7d9-7bc42a090033"
      },
      "execution_count": 3,
      "outputs": [
        {
          "output_type": "stream",
          "name": "stdout",
          "text": [
            "11\n"
          ]
        }
      ]
    },
    {
      "cell_type": "markdown",
      "source": [
        "3. . Write a code to slice the first 3 characters from the string 'Python Programming'.\n"
      ],
      "metadata": {
        "id": "dFdIbSvcf-mf"
      }
    },
    {
      "cell_type": "code",
      "source": [
        "string = \"Python Programming\"\n",
        "print(string[:3])\n"
      ],
      "metadata": {
        "colab": {
          "base_uri": "https://localhost:8080/"
        },
        "id": "iDdZbd4pgOO6",
        "outputId": "c1e187d7-df47-48f9-c39d-871f30486c6b"
      },
      "execution_count": 4,
      "outputs": [
        {
          "output_type": "stream",
          "name": "stdout",
          "text": [
            "Pyt\n"
          ]
        }
      ]
    },
    {
      "cell_type": "markdown",
      "source": [
        "4. Write a code to convert the string 'hello' to uppercase.\n"
      ],
      "metadata": {
        "id": "dfbY1XZhgbUg"
      }
    },
    {
      "cell_type": "code",
      "source": [
        "string = \"hello\"\n",
        "print(string.upper())"
      ],
      "metadata": {
        "colab": {
          "base_uri": "https://localhost:8080/"
        },
        "id": "FGTkjEH-ggsL",
        "outputId": "0e6b3722-1a2d-4d65-a4fb-aeccddcb44a2"
      },
      "execution_count": 5,
      "outputs": [
        {
          "output_type": "stream",
          "name": "stdout",
          "text": [
            "HELLO\n"
          ]
        }
      ]
    },
    {
      "cell_type": "markdown",
      "source": [
        "5. Write a code to replace the word 'apple' with 'orange' in the string 'I like apple'.\n"
      ],
      "metadata": {
        "id": "7vZiE0uQgwHp"
      }
    },
    {
      "cell_type": "code",
      "source": [
        "string = \"I like apple\"\n",
        "print(string.replace(\"apple\", \"orange\"))\n"
      ],
      "metadata": {
        "colab": {
          "base_uri": "https://localhost:8080/"
        },
        "id": "HyLE0lX9hBed",
        "outputId": "2f397fdf-334d-4c2c-ae8b-c0a3161b88c9"
      },
      "execution_count": 6,
      "outputs": [
        {
          "output_type": "stream",
          "name": "stdout",
          "text": [
            "I like orange\n"
          ]
        }
      ]
    },
    {
      "cell_type": "markdown",
      "source": [
        "6. . Write a code to create a list with numbers 1 to 5 and print it.\n"
      ],
      "metadata": {
        "id": "6C-j_YH-hVZE"
      }
    },
    {
      "cell_type": "code",
      "source": [
        "list = [1, 2, 3, 4, 5]\n",
        "print(list)"
      ],
      "metadata": {
        "colab": {
          "base_uri": "https://localhost:8080/"
        },
        "id": "K_jYFwWNhfrg",
        "outputId": "fded0fa3-8a13-4264-98d4-62cdf05ccb60"
      },
      "execution_count": 8,
      "outputs": [
        {
          "output_type": "stream",
          "name": "stdout",
          "text": [
            "[1, 2, 3, 4, 5]\n"
          ]
        }
      ]
    },
    {
      "cell_type": "markdown",
      "source": [
        "7. Write a code to append the number 10 to the list [1, 2, 3, 4].\n",
        "\n"
      ],
      "metadata": {
        "id": "GK7z3wlWh8DA"
      }
    },
    {
      "cell_type": "code",
      "source": [
        "numbers = [1, 2, 3, 4]\n",
        "numbers.append(10)\n",
        "print(numbers)"
      ],
      "metadata": {
        "colab": {
          "base_uri": "https://localhost:8080/"
        },
        "id": "RbDr1BDkiENy",
        "outputId": "31a44758-c074-4fa2-da77-9dbb0f179f95"
      },
      "execution_count": 9,
      "outputs": [
        {
          "output_type": "stream",
          "name": "stdout",
          "text": [
            "[1, 2, 3, 4, 10]\n"
          ]
        }
      ]
    },
    {
      "cell_type": "markdown",
      "source": [
        "8. Write a code to remove the number 3 from the list [1, 2, 3, 4, 5]."
      ],
      "metadata": {
        "id": "fApi5gJuiTAF"
      }
    },
    {
      "cell_type": "code",
      "source": [
        "numbers = [1, 2, 3, 4, 5]\n",
        "numbers.remove(3)\n",
        "print(numbers)"
      ],
      "metadata": {
        "colab": {
          "base_uri": "https://localhost:8080/"
        },
        "id": "gY4HD5A6icZz",
        "outputId": "22dcc257-63cb-4b79-f983-69658a9c8f79"
      },
      "execution_count": 10,
      "outputs": [
        {
          "output_type": "stream",
          "name": "stdout",
          "text": [
            "[1, 2, 4, 5]\n"
          ]
        }
      ]
    },
    {
      "cell_type": "markdown",
      "source": [
        "9. Write a code to access the second element in the list ['a', 'b', 'c', 'd'].\n"
      ],
      "metadata": {
        "id": "cloecc77izF2"
      }
    },
    {
      "cell_type": "code",
      "source": [
        "letters = [\"a\", \"b\", \"c\", \"d\"]\n",
        "print(letters[1])"
      ],
      "metadata": {
        "colab": {
          "base_uri": "https://localhost:8080/"
        },
        "id": "CnHq5Bori6pH",
        "outputId": "807d9546-f545-4b8a-fb4d-ddc03643567a"
      },
      "execution_count": 11,
      "outputs": [
        {
          "output_type": "stream",
          "name": "stdout",
          "text": [
            "b\n"
          ]
        }
      ]
    },
    {
      "cell_type": "markdown",
      "source": [
        "10. Write a code to reverse the list [10, 20, 30, 40, 50].\n"
      ],
      "metadata": {
        "id": "l3pHPoRcjEuO"
      }
    },
    {
      "cell_type": "code",
      "source": [
        "numbers = [10, 20, 30, 40, 50]\n",
        "numbers.reverse()\n",
        "print(numbers)\n"
      ],
      "metadata": {
        "colab": {
          "base_uri": "https://localhost:8080/"
        },
        "id": "fZHlk7xrjJCD",
        "outputId": "09d9cfca-c8c0-42fb-a5a0-baa790ad3c92"
      },
      "execution_count": 13,
      "outputs": [
        {
          "output_type": "stream",
          "name": "stdout",
          "text": [
            "[50, 40, 30, 20, 10]\n"
          ]
        }
      ]
    },
    {
      "cell_type": "markdown",
      "source": [
        "11. Write a code to create a tuple with the elements 10, 20, 30 and print it."
      ],
      "metadata": {
        "id": "OqtVOIepjU1S"
      }
    },
    {
      "cell_type": "code",
      "source": [
        "tuple1 = (10, 20, 30)\n",
        "print(tuple1)"
      ],
      "metadata": {
        "colab": {
          "base_uri": "https://localhost:8080/"
        },
        "id": "2Ol-RAC9j1qN",
        "outputId": "6d52f336-c51b-45a0-a5a5-dbbba552119e"
      },
      "execution_count": 14,
      "outputs": [
        {
          "output_type": "stream",
          "name": "stdout",
          "text": [
            "(10, 20, 30)\n"
          ]
        }
      ]
    },
    {
      "cell_type": "markdown",
      "source": [
        "12. Write a code to access the first element of the tuple ('apple', 'banana', 'cherry').\n"
      ],
      "metadata": {
        "id": "YrrTB9IKkBCP"
      }
    },
    {
      "cell_type": "code",
      "source": [
        "fruits = (\"apple\", \"banana\", \"cherry\")\n",
        "print(fruits[0])"
      ],
      "metadata": {
        "colab": {
          "base_uri": "https://localhost:8080/"
        },
        "id": "UUYPkINwkKEy",
        "outputId": "c3921524-11ae-43d0-f8b9-fdb23025c3bc"
      },
      "execution_count": 15,
      "outputs": [
        {
          "output_type": "stream",
          "name": "stdout",
          "text": [
            "apple\n"
          ]
        }
      ]
    },
    {
      "cell_type": "markdown",
      "source": [
        "13. Write a code to count how many times the number 2 appears in the tuple (1, 2, 3, 2, 4, 2)."
      ],
      "metadata": {
        "id": "OGAEdnI7kVe7"
      }
    },
    {
      "cell_type": "code",
      "source": [
        "nums = (1, 2, 3, 2, 4, 2)\n",
        "print(nums.count(2))"
      ],
      "metadata": {
        "colab": {
          "base_uri": "https://localhost:8080/"
        },
        "id": "4cH9pnmPkgTe",
        "outputId": "3cb82a5d-8735-45d3-992e-184f9f547295"
      },
      "execution_count": 16,
      "outputs": [
        {
          "output_type": "stream",
          "name": "stdout",
          "text": [
            "3\n"
          ]
        }
      ]
    },
    {
      "cell_type": "markdown",
      "source": [
        "14. Write a code to find the index of the element 'cat' in the tuple ('dog', 'cat', 'rabbit').\n",
        "\n"
      ],
      "metadata": {
        "id": "JDfFcfO5kxFD"
      }
    },
    {
      "cell_type": "code",
      "source": [
        "animals = (\"dog\", \"cat\", \"rabbit\")\n",
        "print(animals.index(\"cat\"))\n"
      ],
      "metadata": {
        "colab": {
          "base_uri": "https://localhost:8080/"
        },
        "id": "R7MhdXHek1LB",
        "outputId": "865d4faa-ff18-403d-f3ab-b13153b371ef"
      },
      "execution_count": 17,
      "outputs": [
        {
          "output_type": "stream",
          "name": "stdout",
          "text": [
            "1\n"
          ]
        }
      ]
    },
    {
      "cell_type": "markdown",
      "source": [
        "15. Write a code to check if the element 'banana' is in the tuple ('apple', 'orange', 'banana')."
      ],
      "metadata": {
        "id": "_L_rO-y-lE5X"
      }
    },
    {
      "cell_type": "code",
      "source": [
        "fruits = (\"apple\", \"orange\", \"banana\")\n",
        "print(\"banana\" in fruits)\n"
      ],
      "metadata": {
        "colab": {
          "base_uri": "https://localhost:8080/"
        },
        "id": "KZaUrIyVlSCY",
        "outputId": "ce073ff8-11c5-4188-fbeb-b3ff5b6f44ab"
      },
      "execution_count": 18,
      "outputs": [
        {
          "output_type": "stream",
          "name": "stdout",
          "text": [
            "True\n"
          ]
        }
      ]
    },
    {
      "cell_type": "markdown",
      "source": [
        "16. Write a code to create a set with the elements 1, 2, 3, 4, 5 and print it."
      ],
      "metadata": {
        "id": "fx9maMCIlZ6H"
      }
    },
    {
      "cell_type": "code",
      "source": [
        "set1 = {1, 2, 3, 4, 5}\n",
        "print(set1)\n"
      ],
      "metadata": {
        "colab": {
          "base_uri": "https://localhost:8080/"
        },
        "id": "357CdOCElg0U",
        "outputId": "8db2a6c8-0305-4976-dc5d-1481e075be79"
      },
      "execution_count": 19,
      "outputs": [
        {
          "output_type": "stream",
          "name": "stdout",
          "text": [
            "{1, 2, 3, 4, 5}\n"
          ]
        }
      ]
    },
    {
      "cell_type": "markdown",
      "source": [
        "17. Write a code to add the element 6 to the set {1, 2, 3, 4}."
      ],
      "metadata": {
        "id": "XDh0fQg0lmMI"
      }
    },
    {
      "cell_type": "code",
      "source": [
        "set1 = {1, 2, 3, 4}\n",
        "set1.add(6)\n",
        "print(set1)"
      ],
      "metadata": {
        "colab": {
          "base_uri": "https://localhost:8080/"
        },
        "id": "QmIdazWultKo",
        "outputId": "a0c249ea-7d25-4dd3-ec4c-92e891367263"
      },
      "execution_count": 20,
      "outputs": [
        {
          "output_type": "stream",
          "name": "stdout",
          "text": [
            "{1, 2, 3, 4, 6}\n"
          ]
        }
      ]
    },
    {
      "cell_type": "markdown",
      "source": [
        "18. Write a code to create a tuple with the elements 10, 20, 30 and print it."
      ],
      "metadata": {
        "id": "sT158eEZmM4n"
      }
    },
    {
      "cell_type": "code",
      "source": [
        "tuple = (10, 20, 30)\n",
        "print(tuple)"
      ],
      "metadata": {
        "colab": {
          "base_uri": "https://localhost:8080/"
        },
        "id": "Ro5z6VdxmP_N",
        "outputId": "95130967-f045-401f-aab5-489f3a737d8a"
      },
      "execution_count": 21,
      "outputs": [
        {
          "output_type": "stream",
          "name": "stdout",
          "text": [
            "(10, 20, 30)\n"
          ]
        }
      ]
    },
    {
      "cell_type": "markdown",
      "source": [
        "19. Write a code to access the first element of the tuple ('apple', 'banana', 'cherry').\n"
      ],
      "metadata": {
        "id": "06utQCgvmkHN"
      }
    },
    {
      "cell_type": "code",
      "source": [
        "tup = (\"apple\", \"banana\", \"cherry\")\n",
        "print(tup[0])"
      ],
      "metadata": {
        "colab": {
          "base_uri": "https://localhost:8080/"
        },
        "id": "EYMnYGYWmlfI",
        "outputId": "6689013d-02b1-4177-b3d7-3cc36a23f9f3"
      },
      "execution_count": 22,
      "outputs": [
        {
          "output_type": "stream",
          "name": "stdout",
          "text": [
            "apple\n"
          ]
        }
      ]
    },
    {
      "cell_type": "markdown",
      "source": [
        "20. Write a code to count how many times the number 2 appears in the tuple (1, 2, 3, 2, 4, 2).\n"
      ],
      "metadata": {
        "id": "e7mY23mImvm2"
      }
    },
    {
      "cell_type": "code",
      "source": [
        "tup = (1, 2, 3, 2, 4, 2)\n",
        "print(tup.count(2))"
      ],
      "metadata": {
        "colab": {
          "base_uri": "https://localhost:8080/"
        },
        "id": "cRqQpOgkmyXn",
        "outputId": "1410957f-5ce6-4fae-dc2f-31348f5bf03f"
      },
      "execution_count": 23,
      "outputs": [
        {
          "output_type": "stream",
          "name": "stdout",
          "text": [
            "3\n"
          ]
        }
      ]
    },
    {
      "cell_type": "markdown",
      "source": [
        "21. Write a code to find the index of the element 'cat' in the tuple ('dog', 'cat', 'rabbit').\n"
      ],
      "metadata": {
        "id": "mJdmcwTxm8Qg"
      }
    },
    {
      "cell_type": "code",
      "source": [
        "tup = (\"dog\", \"cat\", \"rabbit\")\n",
        "print(tup.index(\"cat\"))\n"
      ],
      "metadata": {
        "colab": {
          "base_uri": "https://localhost:8080/"
        },
        "id": "IBcwvGg0m_Sv",
        "outputId": "2e5560d8-c084-498e-cc31-e5bc012126c7"
      },
      "execution_count": 24,
      "outputs": [
        {
          "output_type": "stream",
          "name": "stdout",
          "text": [
            "1\n"
          ]
        }
      ]
    },
    {
      "cell_type": "markdown",
      "source": [
        "22. Write a code to check if the element 'banana' is in the tuple ('apple', 'orange', 'banana')."
      ],
      "metadata": {
        "id": "3NlxZYj7nHKg"
      }
    },
    {
      "cell_type": "code",
      "source": [
        "tup = (\"apple\", \"orange\", \"banana\")\n",
        "print(\"banana\" in tup)\n"
      ],
      "metadata": {
        "colab": {
          "base_uri": "https://localhost:8080/"
        },
        "id": "IeIw90CLnLyF",
        "outputId": "8795346a-9bee-403c-ea49-e7c11bc00407"
      },
      "execution_count": 26,
      "outputs": [
        {
          "output_type": "stream",
          "name": "stdout",
          "text": [
            "True\n"
          ]
        }
      ]
    },
    {
      "cell_type": "markdown",
      "source": [
        "23. Write a code to create a set with the elements 1, 2, 3, 4, 5 and print it.\n",
        "\n"
      ],
      "metadata": {
        "id": "Tba1Ip7LnWfN"
      }
    },
    {
      "cell_type": "code",
      "source": [
        "s = {1, 2, 3, 4, 5}\n",
        "print(s)\n"
      ],
      "metadata": {
        "colab": {
          "base_uri": "https://localhost:8080/"
        },
        "id": "CTkmCXKundCw",
        "outputId": "e3b8485d-c9bf-42ba-f0c9-8b7d7332bcb3"
      },
      "execution_count": 27,
      "outputs": [
        {
          "output_type": "stream",
          "name": "stdout",
          "text": [
            "{1, 2, 3, 4, 5}\n"
          ]
        }
      ]
    },
    {
      "cell_type": "markdown",
      "source": [
        "24. Write a code to add the element 6 to the set {1, 2, 3, 4}.\n"
      ],
      "metadata": {
        "id": "0IFB4Minnjk4"
      }
    },
    {
      "cell_type": "code",
      "source": [
        "set = {1, 2, 3, 4}\n",
        "set.add(6)\n",
        "print(set)"
      ],
      "metadata": {
        "colab": {
          "base_uri": "https://localhost:8080/"
        },
        "id": "-9vHj-2_noTL",
        "outputId": "8640a790-b6ea-45be-c39f-3428b10d324b"
      },
      "execution_count": 28,
      "outputs": [
        {
          "output_type": "stream",
          "name": "stdout",
          "text": [
            "{1, 2, 3, 4, 6}\n"
          ]
        }
      ]
    }
  ]
}